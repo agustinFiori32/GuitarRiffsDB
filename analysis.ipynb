{
 "cells": [
  {
   "cell_type": "code",
   "execution_count": 135,
   "metadata": {},
   "outputs": [],
   "source": [
    "import pandas as pd\n",
    "import numpy as np\n",
    "import seaborn as sns\n",
    "import matplotlib.pyplot as plt"
   ]
  },
  {
   "cell_type": "code",
   "execution_count": 136,
   "metadata": {},
   "outputs": [],
   "source": [
    "df = pd.read_csv('gutiarDB.csv')"
   ]
  },
  {
   "cell_type": "code",
   "execution_count": 137,
   "metadata": {},
   "outputs": [
    {
     "data": {
      "text/html": [
       "<div>\n",
       "<style scoped>\n",
       "    .dataframe tbody tr th:only-of-type {\n",
       "        vertical-align: middle;\n",
       "    }\n",
       "\n",
       "    .dataframe tbody tr th {\n",
       "        vertical-align: top;\n",
       "    }\n",
       "\n",
       "    .dataframe thead th {\n",
       "        text-align: right;\n",
       "    }\n",
       "</style>\n",
       "<table border=\"1\" class=\"dataframe\">\n",
       "  <thead>\n",
       "    <tr style=\"text-align: right;\">\n",
       "      <th></th>\n",
       "      <th>Artist</th>\n",
       "      <th>Song Name</th>\n",
       "      <th>Song Rating</th>\n",
       "      <th>Song Hits</th>\n",
       "      <th>Page Type</th>\n",
       "      <th>Difficulty</th>\n",
       "      <th>Key</th>\n",
       "      <th>Capo</th>\n",
       "      <th>Tuning</th>\n",
       "    </tr>\n",
       "  </thead>\n",
       "  <tbody>\n",
       "    <tr>\n",
       "      <th>0</th>\n",
       "      <td>Jeff Buckley</td>\n",
       "      <td>Hallelujah</td>\n",
       "      <td>40,045</td>\n",
       "      <td>31,174,526</td>\n",
       "      <td>Chords</td>\n",
       "      <td>novice</td>\n",
       "      <td>Db</td>\n",
       "      <td>1st fret</td>\n",
       "      <td>E A D G B E</td>\n",
       "    </tr>\n",
       "    <tr>\n",
       "      <th>1</th>\n",
       "      <td>Ed Sheeran</td>\n",
       "      <td>Perfect</td>\n",
       "      <td>31,694</td>\n",
       "      <td>25,794,778</td>\n",
       "      <td>Chords</td>\n",
       "      <td>novice</td>\n",
       "      <td>Ab</td>\n",
       "      <td>1st fret</td>\n",
       "      <td>E A D G B E</td>\n",
       "    </tr>\n",
       "    <tr>\n",
       "      <th>2</th>\n",
       "      <td>John Legend</td>\n",
       "      <td>All Of Me</td>\n",
       "      <td>20,169</td>\n",
       "      <td>25,653,362</td>\n",
       "      <td>Chords</td>\n",
       "      <td>novice</td>\n",
       "      <td>Fm</td>\n",
       "      <td>1st fret</td>\n",
       "      <td>E A D G B E</td>\n",
       "    </tr>\n",
       "    <tr>\n",
       "      <th>3</th>\n",
       "      <td>Passenger</td>\n",
       "      <td>Let Her Go</td>\n",
       "      <td>17,267</td>\n",
       "      <td>24,556,593</td>\n",
       "      <td>Chords</td>\n",
       "      <td>novice</td>\n",
       "      <td>Em</td>\n",
       "      <td>7th fret</td>\n",
       "      <td>E A D G B E</td>\n",
       "    </tr>\n",
       "    <tr>\n",
       "      <th>4</th>\n",
       "      <td>Led Zeppelin</td>\n",
       "      <td>Stairway To Heaven</td>\n",
       "      <td>11,839</td>\n",
       "      <td>20,762,763</td>\n",
       "      <td>Tab</td>\n",
       "      <td>intermediate</td>\n",
       "      <td>Am</td>\n",
       "      <td>No Capo</td>\n",
       "      <td>E A D G B E</td>\n",
       "    </tr>\n",
       "  </tbody>\n",
       "</table>\n",
       "</div>"
      ],
      "text/plain": [
       "         Artist           Song Name Song Rating   Song Hits Page Type  \\\n",
       "0  Jeff Buckley         Hallelujah       40,045  31,174,526    Chords   \n",
       "1    Ed Sheeran             Perfect      31,694  25,794,778    Chords   \n",
       "2   John Legend           All Of Me      20,169  25,653,362    Chords   \n",
       "3     Passenger          Let Her Go      17,267  24,556,593    Chords   \n",
       "4  Led Zeppelin  Stairway To Heaven      11,839  20,762,763       Tab   \n",
       "\n",
       "     Difficulty  Key       Capo        Tuning  \n",
       "0        novice   Db   1st fret   E A D G B E  \n",
       "1        novice   Ab   1st fret   E A D G B E  \n",
       "2        novice   Fm   1st fret   E A D G B E  \n",
       "3        novice   Em   7th fret   E A D G B E  \n",
       "4  intermediate   Am    No Capo   E A D G B E  "
      ]
     },
     "execution_count": 137,
     "metadata": {},
     "output_type": "execute_result"
    }
   ],
   "source": [
    "df.head()"
   ]
  },
  {
   "cell_type": "code",
   "execution_count": 138,
   "metadata": {},
   "outputs": [
    {
     "name": "stdout",
     "output_type": "stream",
     "text": [
      "<class 'pandas.core.frame.DataFrame'>\n",
      "RangeIndex: 850 entries, 0 to 849\n",
      "Data columns (total 9 columns):\n",
      " #   Column       Non-Null Count  Dtype \n",
      "---  ------       --------------  ----- \n",
      " 0   Artist       850 non-null    object\n",
      " 1   Song Name    850 non-null    object\n",
      " 2   Song Rating  850 non-null    object\n",
      " 3   Song Hits    850 non-null    object\n",
      " 4   Page Type    850 non-null    object\n",
      " 5   Difficulty   850 non-null    object\n",
      " 6   Key          850 non-null    object\n",
      " 7   Capo         850 non-null    object\n",
      " 8   Tuning       850 non-null    object\n",
      "dtypes: object(9)\n",
      "memory usage: 59.9+ KB\n"
     ]
    }
   ],
   "source": [
    "df.info()"
   ]
  },
  {
   "cell_type": "markdown",
   "metadata": {},
   "source": [
    "Tendremos que convertir aquellos valores numericos a integrer"
   ]
  },
  {
   "cell_type": "code",
   "execution_count": 139,
   "metadata": {},
   "outputs": [],
   "source": [
    "df['Song Hits'] = df['Song Hits'].astype(str)\n",
    "df['Song Hits'] = df['Song Hits'].str.replace(',', '', regex=True)\n",
    "df['Song Hits'] = pd.to_numeric(df['Song Hits'], errors='coerce', downcast='integer')\n",
    "\n",
    "df['Song Rating'] = df['Song Rating'].astype(str)\n",
    "df['Song Rating'] = df['Song Rating'].str.replace(',', '', regex=True)\n",
    "df['Song Rating'] = pd.to_numeric(df['Song Rating'], errors='coerce', downcast='integer')"
   ]
  },
  {
   "cell_type": "code",
   "execution_count": 140,
   "metadata": {},
   "outputs": [
    {
     "data": {
      "text/html": [
       "<div>\n",
       "<style scoped>\n",
       "    .dataframe tbody tr th:only-of-type {\n",
       "        vertical-align: middle;\n",
       "    }\n",
       "\n",
       "    .dataframe tbody tr th {\n",
       "        vertical-align: top;\n",
       "    }\n",
       "\n",
       "    .dataframe thead th {\n",
       "        text-align: right;\n",
       "    }\n",
       "</style>\n",
       "<table border=\"1\" class=\"dataframe\">\n",
       "  <thead>\n",
       "    <tr style=\"text-align: right;\">\n",
       "      <th></th>\n",
       "      <th>Artist</th>\n",
       "      <th>Song Name</th>\n",
       "      <th>Song Rating</th>\n",
       "      <th>Song Hits</th>\n",
       "      <th>Page Type</th>\n",
       "      <th>Difficulty</th>\n",
       "      <th>Key</th>\n",
       "      <th>Capo</th>\n",
       "      <th>Tuning</th>\n",
       "    </tr>\n",
       "  </thead>\n",
       "  <tbody>\n",
       "    <tr>\n",
       "      <th>0</th>\n",
       "      <td>Jeff Buckley</td>\n",
       "      <td>Hallelujah</td>\n",
       "      <td>40045</td>\n",
       "      <td>31174526</td>\n",
       "      <td>Chords</td>\n",
       "      <td>novice</td>\n",
       "      <td>Db</td>\n",
       "      <td>1st fret</td>\n",
       "      <td>E A D G B E</td>\n",
       "    </tr>\n",
       "    <tr>\n",
       "      <th>1</th>\n",
       "      <td>Ed Sheeran</td>\n",
       "      <td>Perfect</td>\n",
       "      <td>31694</td>\n",
       "      <td>25794778</td>\n",
       "      <td>Chords</td>\n",
       "      <td>novice</td>\n",
       "      <td>Ab</td>\n",
       "      <td>1st fret</td>\n",
       "      <td>E A D G B E</td>\n",
       "    </tr>\n",
       "    <tr>\n",
       "      <th>2</th>\n",
       "      <td>John Legend</td>\n",
       "      <td>All Of Me</td>\n",
       "      <td>20169</td>\n",
       "      <td>25653362</td>\n",
       "      <td>Chords</td>\n",
       "      <td>novice</td>\n",
       "      <td>Fm</td>\n",
       "      <td>1st fret</td>\n",
       "      <td>E A D G B E</td>\n",
       "    </tr>\n",
       "    <tr>\n",
       "      <th>3</th>\n",
       "      <td>Passenger</td>\n",
       "      <td>Let Her Go</td>\n",
       "      <td>17267</td>\n",
       "      <td>24556593</td>\n",
       "      <td>Chords</td>\n",
       "      <td>novice</td>\n",
       "      <td>Em</td>\n",
       "      <td>7th fret</td>\n",
       "      <td>E A D G B E</td>\n",
       "    </tr>\n",
       "    <tr>\n",
       "      <th>4</th>\n",
       "      <td>Led Zeppelin</td>\n",
       "      <td>Stairway To Heaven</td>\n",
       "      <td>11839</td>\n",
       "      <td>20762763</td>\n",
       "      <td>Tab</td>\n",
       "      <td>intermediate</td>\n",
       "      <td>Am</td>\n",
       "      <td>No Capo</td>\n",
       "      <td>E A D G B E</td>\n",
       "    </tr>\n",
       "  </tbody>\n",
       "</table>\n",
       "</div>"
      ],
      "text/plain": [
       "         Artist           Song Name  Song Rating  Song Hits Page Type  \\\n",
       "0  Jeff Buckley         Hallelujah         40045   31174526    Chords   \n",
       "1    Ed Sheeran             Perfect        31694   25794778    Chords   \n",
       "2   John Legend           All Of Me        20169   25653362    Chords   \n",
       "3     Passenger          Let Her Go        17267   24556593    Chords   \n",
       "4  Led Zeppelin  Stairway To Heaven        11839   20762763       Tab   \n",
       "\n",
       "     Difficulty  Key       Capo        Tuning  \n",
       "0        novice   Db   1st fret   E A D G B E  \n",
       "1        novice   Ab   1st fret   E A D G B E  \n",
       "2        novice   Fm   1st fret   E A D G B E  \n",
       "3        novice   Em   7th fret   E A D G B E  \n",
       "4  intermediate   Am    No Capo   E A D G B E  "
      ]
     },
     "execution_count": 140,
     "metadata": {},
     "output_type": "execute_result"
    }
   ],
   "source": [
    "df.head()"
   ]
  },
  {
   "cell_type": "code",
   "execution_count": 141,
   "metadata": {},
   "outputs": [
    {
     "name": "stdout",
     "output_type": "stream",
     "text": [
      "<class 'pandas.core.frame.DataFrame'>\n",
      "RangeIndex: 850 entries, 0 to 849\n",
      "Data columns (total 9 columns):\n",
      " #   Column       Non-Null Count  Dtype \n",
      "---  ------       --------------  ----- \n",
      " 0   Artist       850 non-null    object\n",
      " 1   Song Name    850 non-null    object\n",
      " 2   Song Rating  850 non-null    int32 \n",
      " 3   Song Hits    850 non-null    int32 \n",
      " 4   Page Type    850 non-null    object\n",
      " 5   Difficulty   850 non-null    object\n",
      " 6   Key          850 non-null    object\n",
      " 7   Capo         850 non-null    object\n",
      " 8   Tuning       850 non-null    object\n",
      "dtypes: int32(2), object(7)\n",
      "memory usage: 53.3+ KB\n"
     ]
    }
   ],
   "source": [
    "df.info()"
   ]
  },
  {
   "cell_type": "markdown",
   "metadata": {},
   "source": [
    "Notamos que la conversión se realizó correctamente"
   ]
  },
  {
   "cell_type": "code",
   "execution_count": 142,
   "metadata": {},
   "outputs": [
    {
     "data": {
      "text/plain": [
       "Tuning\n",
       " E A D G B E          616\n",
       " E A D G B             95\n",
       "E A D G B E            94\n",
       " Eb Ab Db Gb Bb Eb     22\n",
       " Eb Ab Db Gb Bb E       5\n",
       " D G C F A              2\n",
       " D A D G B              2\n",
       " Db Ab Db Gb Bb E       2\n",
       " C G C F A              2\n",
       " G C E A                2\n",
       " Db Ab Db Gb Bb Eb      1\n",
       " C# F# B E G# C#        1\n",
       " D G C F A D            1\n",
       " E A D G                1\n",
       " C G C F A D            1\n",
       " D A D G B E            1\n",
       " A E A D F#             1\n",
       " E A D                  1\n",
       "Name: count, dtype: int64"
      ]
     },
     "execution_count": 142,
     "metadata": {},
     "output_type": "execute_result"
    }
   ],
   "source": [
    "df['Tuning'].value_counts()"
   ]
  },
  {
   "cell_type": "markdown",
   "metadata": {},
   "source": [
    "Vamos a hacer que estos datos sean más comodos para su análisis"
   ]
  },
  {
   "cell_type": "code",
   "execution_count": 143,
   "metadata": {},
   "outputs": [],
   "source": [
    "df['Tuning'] = df['Tuning'].astype(str)\n",
    "df['Tuning'] = df['Tuning'].str.replace(' ', '')"
   ]
  },
  {
   "cell_type": "code",
   "execution_count": 144,
   "metadata": {},
   "outputs": [
    {
     "data": {
      "text/plain": [
       "Tuning\n",
       "EADGBE          710\n",
       "EADGB            95\n",
       "EbAbDbGbBbEb     22\n",
       "EbAbDbGbBbE       5\n",
       "DGCFA             2\n",
       "DADGB             2\n",
       "DbAbDbGbBbE       2\n",
       "CGCFA             2\n",
       "GCEA              2\n",
       "DbAbDbGbBbEb      1\n",
       "C#F#BEG#C#        1\n",
       "DGCFAD            1\n",
       "EADG              1\n",
       "CGCFAD            1\n",
       "DADGBE            1\n",
       "AEADF#            1\n",
       "EAD               1\n",
       "Name: count, dtype: int64"
      ]
     },
     "execution_count": 144,
     "metadata": {},
     "output_type": "execute_result"
    }
   ],
   "source": [
    "df['Tuning'].value_counts()"
   ]
  },
  {
   "cell_type": "markdown",
   "metadata": {},
   "source": [
    "Para una posterior visualización convendría obtener estas afinaciones con nombres más amigables"
   ]
  },
  {
   "cell_type": "code",
   "execution_count": 145,
   "metadata": {},
   "outputs": [
    {
     "name": "stdout",
     "output_type": "stream",
     "text": [
      "['EADGBE', 'EbAbDbGbBbEb', 'DGCFAD', 'DbAbDbGbBbEb', 'EbAbDbGbBbE', 'DbAbDbGbBbE', 'C#F#BEG#C#', 'CGCFAD', 'DADGBE', 'AEADF#']\n"
     ]
    }
   ],
   "source": [
    "tuning_types = []\n",
    "\n",
    "for i in df['Tuning']:\n",
    "    if i not in tuning_types and len(i) >= 6:\n",
    "        tuning_types.append(i)\n",
    "\n",
    "print(tuning_types)"
   ]
  },
  {
   "cell_type": "markdown",
   "metadata": {},
   "source": [
    "Buscaremos los nombres correspondientes a cada afinación y los agregaremos en una nueva columna llamada Tuning Name"
   ]
  },
  {
   "cell_type": "code",
   "execution_count": 146,
   "metadata": {},
   "outputs": [],
   "source": [
    "tuning_names = ['Estandar', 'Eb Standard', 'Drop C', 'Db Standard', 'Half Step Down', 'Half Step Down', 'C# Standard', 'Drop C', 'Drop D', 'Open A']\n",
    "\n",
    "tuning_dict = dict(zip(tuning_types, tuning_names))\n",
    "\n",
    "df['Tuning Name'] = df['Tuning'].map(tuning_dict)"
   ]
  },
  {
   "cell_type": "code",
   "execution_count": 147,
   "metadata": {},
   "outputs": [
    {
     "data": {
      "text/plain": [
       "Tuning Name\n",
       "Estandar          710\n",
       "Eb Standard        22\n",
       "Half Step Down      7\n",
       "Drop C              2\n",
       "Db Standard         1\n",
       "C# Standard         1\n",
       "Drop D              1\n",
       "Open A              1\n",
       "Name: count, dtype: int64"
      ]
     },
     "execution_count": 147,
     "metadata": {},
     "output_type": "execute_result"
    }
   ],
   "source": [
    "df['Tuning Name'].value_counts()"
   ]
  },
  {
   "cell_type": "code",
   "execution_count": 148,
   "metadata": {},
   "outputs": [
    {
     "name": "stdout",
     "output_type": "stream",
     "text": [
      "<class 'pandas.core.frame.DataFrame'>\n",
      "RangeIndex: 850 entries, 0 to 849\n",
      "Data columns (total 10 columns):\n",
      " #   Column       Non-Null Count  Dtype \n",
      "---  ------       --------------  ----- \n",
      " 0   Artist       850 non-null    object\n",
      " 1   Song Name    850 non-null    object\n",
      " 2   Song Rating  850 non-null    int32 \n",
      " 3   Song Hits    850 non-null    int32 \n",
      " 4   Page Type    850 non-null    object\n",
      " 5   Difficulty   850 non-null    object\n",
      " 6   Key          850 non-null    object\n",
      " 7   Capo         850 non-null    object\n",
      " 8   Tuning       850 non-null    object\n",
      " 9   Tuning Name  745 non-null    object\n",
      "dtypes: int32(2), object(8)\n",
      "memory usage: 59.9+ KB\n"
     ]
    }
   ],
   "source": [
    "df.info()"
   ]
  },
  {
   "cell_type": "markdown",
   "metadata": {},
   "source": [
    "Algunos datos son nulos ya que ciertos valores de afinación se encontraban incompletos, sin ser correspondientes a una afinación valida, por lo que así los dejaremos."
   ]
  },
  {
   "cell_type": "markdown",
   "metadata": {},
   "source": [
    "Para mejorar aún más nuestro análisis separaremos a las canciones sobre las que usan capo y las que no"
   ]
  },
  {
   "cell_type": "code",
   "execution_count": 149,
   "metadata": {},
   "outputs": [
    {
     "data": {
      "text/plain": [
       "Capo\n",
       "No Capo      549\n",
       " 1st fret     57\n",
       " 2nd fret     57\n",
       " 3rd fret     50\n",
       " 4th fret     33\n",
       " 5th fret     17\n",
       " 3rd fre      17\n",
       " 4th fre      16\n",
       " 2nd fre      13\n",
       " 1st fre      12\n",
       " 6th fret      9\n",
       " 7th fret      6\n",
       " 5th fre       5\n",
       " 7th fre       5\n",
       " 8th fret      2\n",
       " 6th fre       2\n",
       "Name: count, dtype: int64"
      ]
     },
     "execution_count": 149,
     "metadata": {},
     "output_type": "execute_result"
    }
   ],
   "source": [
    "df['Capo'].value_counts()"
   ]
  },
  {
   "cell_type": "code",
   "execution_count": 150,
   "metadata": {},
   "outputs": [],
   "source": [
    "df['CapoBin'] = df['Capo'].apply(lambda x: 'No Capo' if x == 'No Capo' else 'Capo')"
   ]
  },
  {
   "cell_type": "code",
   "execution_count": 151,
   "metadata": {},
   "outputs": [
    {
     "data": {
      "text/html": [
       "<div>\n",
       "<style scoped>\n",
       "    .dataframe tbody tr th:only-of-type {\n",
       "        vertical-align: middle;\n",
       "    }\n",
       "\n",
       "    .dataframe tbody tr th {\n",
       "        vertical-align: top;\n",
       "    }\n",
       "\n",
       "    .dataframe thead th {\n",
       "        text-align: right;\n",
       "    }\n",
       "</style>\n",
       "<table border=\"1\" class=\"dataframe\">\n",
       "  <thead>\n",
       "    <tr style=\"text-align: right;\">\n",
       "      <th></th>\n",
       "      <th>Artist</th>\n",
       "      <th>Song Name</th>\n",
       "      <th>Song Rating</th>\n",
       "      <th>Song Hits</th>\n",
       "      <th>Page Type</th>\n",
       "      <th>Difficulty</th>\n",
       "      <th>Key</th>\n",
       "      <th>Capo</th>\n",
       "      <th>Tuning</th>\n",
       "      <th>Tuning Name</th>\n",
       "      <th>CapoBin</th>\n",
       "    </tr>\n",
       "  </thead>\n",
       "  <tbody>\n",
       "    <tr>\n",
       "      <th>0</th>\n",
       "      <td>Jeff Buckley</td>\n",
       "      <td>Hallelujah</td>\n",
       "      <td>40045</td>\n",
       "      <td>31174526</td>\n",
       "      <td>Chords</td>\n",
       "      <td>novice</td>\n",
       "      <td>Db</td>\n",
       "      <td>1st fret</td>\n",
       "      <td>EADGBE</td>\n",
       "      <td>Estandar</td>\n",
       "      <td>Capo</td>\n",
       "    </tr>\n",
       "    <tr>\n",
       "      <th>1</th>\n",
       "      <td>Ed Sheeran</td>\n",
       "      <td>Perfect</td>\n",
       "      <td>31694</td>\n",
       "      <td>25794778</td>\n",
       "      <td>Chords</td>\n",
       "      <td>novice</td>\n",
       "      <td>Ab</td>\n",
       "      <td>1st fret</td>\n",
       "      <td>EADGBE</td>\n",
       "      <td>Estandar</td>\n",
       "      <td>Capo</td>\n",
       "    </tr>\n",
       "    <tr>\n",
       "      <th>2</th>\n",
       "      <td>John Legend</td>\n",
       "      <td>All Of Me</td>\n",
       "      <td>20169</td>\n",
       "      <td>25653362</td>\n",
       "      <td>Chords</td>\n",
       "      <td>novice</td>\n",
       "      <td>Fm</td>\n",
       "      <td>1st fret</td>\n",
       "      <td>EADGBE</td>\n",
       "      <td>Estandar</td>\n",
       "      <td>Capo</td>\n",
       "    </tr>\n",
       "    <tr>\n",
       "      <th>3</th>\n",
       "      <td>Passenger</td>\n",
       "      <td>Let Her Go</td>\n",
       "      <td>17267</td>\n",
       "      <td>24556593</td>\n",
       "      <td>Chords</td>\n",
       "      <td>novice</td>\n",
       "      <td>Em</td>\n",
       "      <td>7th fret</td>\n",
       "      <td>EADGBE</td>\n",
       "      <td>Estandar</td>\n",
       "      <td>Capo</td>\n",
       "    </tr>\n",
       "    <tr>\n",
       "      <th>4</th>\n",
       "      <td>Led Zeppelin</td>\n",
       "      <td>Stairway To Heaven</td>\n",
       "      <td>11839</td>\n",
       "      <td>20762763</td>\n",
       "      <td>Tab</td>\n",
       "      <td>intermediate</td>\n",
       "      <td>Am</td>\n",
       "      <td>No Capo</td>\n",
       "      <td>EADGBE</td>\n",
       "      <td>Estandar</td>\n",
       "      <td>No Capo</td>\n",
       "    </tr>\n",
       "  </tbody>\n",
       "</table>\n",
       "</div>"
      ],
      "text/plain": [
       "         Artist           Song Name  Song Rating  Song Hits Page Type  \\\n",
       "0  Jeff Buckley         Hallelujah         40045   31174526    Chords   \n",
       "1    Ed Sheeran             Perfect        31694   25794778    Chords   \n",
       "2   John Legend           All Of Me        20169   25653362    Chords   \n",
       "3     Passenger          Let Her Go        17267   24556593    Chords   \n",
       "4  Led Zeppelin  Stairway To Heaven        11839   20762763       Tab   \n",
       "\n",
       "     Difficulty  Key       Capo  Tuning Tuning Name  CapoBin  \n",
       "0        novice   Db   1st fret  EADGBE    Estandar     Capo  \n",
       "1        novice   Ab   1st fret  EADGBE    Estandar     Capo  \n",
       "2        novice   Fm   1st fret  EADGBE    Estandar     Capo  \n",
       "3        novice   Em   7th fret  EADGBE    Estandar     Capo  \n",
       "4  intermediate   Am    No Capo  EADGBE    Estandar  No Capo  "
      ]
     },
     "execution_count": 151,
     "metadata": {},
     "output_type": "execute_result"
    }
   ],
   "source": [
    "df.head()"
   ]
  },
  {
   "cell_type": "markdown",
   "metadata": {},
   "source": [
    "Con todo esto ya estaríamos listos para pasar a la fase de visualización, la cual se realizará en Tableau con el fin de practicarlo un poco :)"
   ]
  },
  {
   "cell_type": "code",
   "execution_count": 152,
   "metadata": {},
   "outputs": [],
   "source": [
    "df.to_excel('guitarDBclean.xlsx', index=False)"
   ]
  }
 ],
 "metadata": {
  "kernelspec": {
   "display_name": "Python 3",
   "language": "python",
   "name": "python3"
  },
  "language_info": {
   "codemirror_mode": {
    "name": "ipython",
    "version": 3
   },
   "file_extension": ".py",
   "mimetype": "text/x-python",
   "name": "python",
   "nbconvert_exporter": "python",
   "pygments_lexer": "ipython3",
   "version": "3.11.4"
  },
  "orig_nbformat": 4
 },
 "nbformat": 4,
 "nbformat_minor": 2
}
